{
 "cells": [
  {
   "cell_type": "markdown",
   "metadata": {},
   "source": [
    "# Accessing the Wikipedia API\n",
    "This notebook pulls some information from the Wikipedia API. This API is nice because it doesn't require authentication. (The Twitter API requires authentication--that's a necessary process to go through, but requires some work.) "
   ]
  },
  {
   "cell_type": "code",
   "execution_count": null,
   "metadata": {},
   "outputs": [],
   "source": [
    "import requests\n",
    "from collections import Counter\n",
    "\n",
    "wikipedia_api_url = \"https://en.wikipedia.org/w/api.php\"\n",
    "\n",
    "req = {'action':'query',\n",
    "          'format':'json',\n",
    "          'list':'categorymembers',\n",
    "          'cmlimit':10}"
   ]
  },
  {
   "cell_type": "markdown",
   "metadata": {},
   "source": [
    "Q: What sort of object is `req`? \n",
    "\n",
    "A: It's a dictionary. They values are strings, except for `req['cmlimit']` which is an integer. "
   ]
  },
  {
   "cell_type": "markdown",
   "metadata": {},
   "source": [
    "We can start by just building a simple query, getting 10 people born in 1973. We will use the delightful and amazing [`requests`](http://docs.python-requests.org/en/master/) library in Python. The format of the URL is based on a bunch of reading about the [Wikipedia API](https://www.mediawiki.org/wiki/API:Categorymembers) and trial and error. And error. "
   ]
  },
  {
   "cell_type": "code",
   "execution_count": null,
   "metadata": {},
   "outputs": [],
   "source": [
    "# add on the category we're going to look at. \n",
    "req['cmtitle'] = 'Category:1973_births'"
   ]
  },
  {
   "cell_type": "code",
   "execution_count": null,
   "metadata": {},
   "outputs": [],
   "source": [
    "r = requests.get(wikipedia_api_url,params=req)"
   ]
  },
  {
   "cell_type": "markdown",
   "metadata": {},
   "source": [
    "Let's take a look at the URL that was requested."
   ]
  },
  {
   "cell_type": "code",
   "execution_count": null,
   "metadata": {},
   "outputs": [],
   "source": [
    "r.url"
   ]
  },
  {
   "cell_type": "markdown",
   "metadata": {},
   "source": [
    "Q: What is `requests` doing with the params list? \n",
    "\n",
    "A: It's adding a \"?\" to the URL. Then it's gluing the parameters together with a `key1=value1&key2=value2&...` syntax. "
   ]
  },
  {
   "cell_type": "code",
   "execution_count": null,
   "metadata": {},
   "outputs": [],
   "source": [
    "from pprint import pprint"
   ]
  },
  {
   "cell_type": "markdown",
   "metadata": {},
   "source": [
    "Let's use the `pprint` (for \"pretty print\") to print out the `json` object that returns from the API call."
   ]
  },
  {
   "cell_type": "code",
   "execution_count": null,
   "metadata": {},
   "outputs": [],
   "source": [
    "pprint(r.json())"
   ]
  },
  {
   "cell_type": "markdown",
   "metadata": {},
   "source": [
    "Feel free to use your browser to visit that `r.url` above. You'll see a `pprint` version of what was returned. Thanks Wikipedia!\n",
    "\n",
    "In this next cell, type `r.` and a tab and look at all the options you have to complete the request object."
   ]
  },
  {
   "cell_type": "code",
   "execution_count": null,
   "metadata": {},
   "outputs": [],
   "source": [
    "r."
   ]
  },
  {
   "cell_type": "markdown",
   "metadata": {},
   "source": [
    "One of the most useful is `r.json()`."
   ]
  },
  {
   "cell_type": "code",
   "execution_count": null,
   "metadata": {},
   "outputs": [],
   "source": [
    "r.json()"
   ]
  },
  {
   "cell_type": "markdown",
   "metadata": {},
   "source": [
    "Compare these results to the entry: https://en.wikipedia.org/wiki/Category:1973_births.\n",
    "\n",
    "Q: What sort of Python object does a JSON object look like? \n",
    "\n",
    "A: JSON objects look a lot like Python dictonaries. In this case, we've got three main keys, `batchcomplete`, `continue`, and `query`."
   ]
  },
  {
   "cell_type": "markdown",
   "metadata": {},
   "source": [
    "When we have this kind of object, it's nice to iterate through it at various levels and see what's there. "
   ]
  },
  {
   "cell_type": "code",
   "execution_count": null,
   "metadata": {},
   "outputs": [],
   "source": [
    "for item in r.json() :\n",
    "    print(item)"
   ]
  },
  {
   "cell_type": "code",
   "execution_count": null,
   "metadata": {},
   "outputs": [],
   "source": [
    "for item in r.json()['query'] :\n",
    "    print(item)"
   ]
  },
  {
   "cell_type": "markdown",
   "metadata": {},
   "source": [
    "`batchcomplete` tells us if we're done with the query, since those are \"paged\" out, I think. `continue` is used to continue through the results since we can't request more than 500 items at once. And `query` has the results. "
   ]
  },
  {
   "cell_type": "code",
   "execution_count": null,
   "metadata": {},
   "outputs": [],
   "source": [
    "for item in r.json()['query']['categorymembers'] :\n",
    "    print(item)"
   ]
  },
  {
   "cell_type": "markdown",
   "metadata": {},
   "source": [
    "Q: What sort of object is `item`? \n",
    "\n",
    "A: `item` is a dictionary with three keys and values. The value for the key `title` has the person's name in it. "
   ]
  },
  {
   "cell_type": "markdown",
   "metadata": {},
   "source": [
    "Now let's build a list of everyone born in 1973. I've added a way to get out using an interation counter. Change the `iteration > n` line to get a different number of pages of results or make it something like 50 to get all the names. "
   ]
  },
  {
   "cell_type": "code",
   "execution_count": null,
   "metadata": {},
   "outputs": [],
   "source": [
    "# Let's build up our request in a more sustainable way.\n",
    "req = {'action':'query',\n",
    "       'format':'json',\n",
    "       'list':'categorymembers',\n",
    "       'cmlimit':500, # move the limit up to the max we can do.\n",
    "       'cmtitle':'Category:1973_births'}\n",
    "\n",
    "last_continue = {} # used to keep track of how far we've gone. \n",
    "iteration = 1\n",
    "pages = 0\n",
    "\n",
    "names = []\n",
    "\n",
    "while True :\n",
    "    # Modify it with the values returned in the 'continue' section of the last result.\n",
    "    req.update(last_continue)\n",
    "    \n",
    "    # Call API\n",
    "    result = requests.get('https://en.wikipedia.org/w/api.php', params=req).json() \n",
    "    \n",
    "    pages += 1\n",
    "    \n",
    "    # Grab the names\n",
    "    for item in result['query']['categorymembers'] :\n",
    "        names.append(item['title'])\n",
    "    \n",
    "    # keep track of our iteration so we can exit if this runs forever\n",
    "    iteration += 1\n",
    "    \n",
    "    # Can we get out?\n",
    "    if 'continue' not in result :\n",
    "        break\n",
    "    else :\n",
    "        last_continue = result['continue']\n",
    "    \n",
    "    if iteration > 300 :\n",
    "        # it's useful to have a way out of while statements,\n",
    "        # particularly ones that are framed as \"while True\"\n",
    "        break \n",
    "\n",
    "print(\"We pulled {} pages\".format(pages))"
   ]
  },
  {
   "cell_type": "markdown",
   "metadata": {},
   "source": [
    "Q: How many names did we pull? "
   ]
  },
  {
   "cell_type": "code",
   "execution_count": null,
   "metadata": {},
   "outputs": [],
   "source": [
    "len(names)"
   ]
  },
  {
   "cell_type": "markdown",
   "metadata": {},
   "source": [
    "---\n",
    "\n",
    "Work through the above code and let me know what questions you have. This is a good set of code to talk through in class too. \n",
    "\n",
    "---\n",
    "\n",
    "To see what's going on, I'll print the first 10 names and the last 10 names."
   ]
  },
  {
   "cell_type": "code",
   "execution_count": null,
   "metadata": {},
   "outputs": [],
   "source": [
    "print(names[:10])\n",
    "print(names[-10:])"
   ]
  },
  {
   "cell_type": "markdown",
   "metadata": {},
   "source": [
    "Let's look at the most common occupations, which are listed in parentheses after the name. Parse the names to pull out occupations, put those through a Counter object to look at the most common. "
   ]
  },
  {
   "cell_type": "code",
   "execution_count": null,
   "metadata": {},
   "outputs": [],
   "source": [
    "# Container for the job-like things\n",
    "types = []\n",
    "\n",
    "# Iterate over the names, split on parens if they're there, \n",
    "# store what's in the second part. \n",
    "for name in names :\n",
    "    if \"(\" in name :\n",
    "        parts = name.split(\"(\")\n",
    "        \n",
    "        types.append(parts[1].replace(\")\",\"\"))\n",
    "\n",
    "        \n",
    "c = Counter(types)\n",
    "c.most_common(10)"
   ]
  },
  {
   "cell_type": "markdown",
   "metadata": {},
   "source": [
    "Q: What are the most common first names in the names list?"
   ]
  },
  {
   "cell_type": "code",
   "execution_count": null,
   "metadata": {},
   "outputs": [],
   "source": [
    "c = Counter([name.split()[0] for name in names])\n",
    "c.most_common(10)"
   ]
  },
  {
   "cell_type": "code",
   "execution_count": null,
   "metadata": {},
   "outputs": [],
   "source": [
    "len(names)"
   ]
  },
  {
   "cell_type": "markdown",
   "metadata": {},
   "source": [
    "Now pick a different year, pull all the names for people born in that year, and count up the most common first names and last names. This will lead into the assignment."
   ]
  },
  {
   "cell_type": "code",
   "execution_count": null,
   "metadata": {},
   "outputs": [],
   "source": [
    "# Your code here. "
   ]
  }
 ],
 "metadata": {
  "kernelspec": {
   "display_name": "Python 3",
   "language": "python",
   "name": "python3"
  },
  "language_info": {
   "codemirror_mode": {
    "name": "ipython",
    "version": 3
   },
   "file_extension": ".py",
   "mimetype": "text/x-python",
   "name": "python",
   "nbconvert_exporter": "python",
   "pygments_lexer": "ipython3",
   "version": "3.7.3"
  }
 },
 "nbformat": 4,
 "nbformat_minor": 2
}
